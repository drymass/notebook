{
  "cells": [
    {
      "cell_type": "code",
      "execution_count": null,
      "metadata": {
        "id": "fktelE6ULGlu"
      },
      "outputs": [],
      "source": [
        "# @title 1. Install ```Dependencies```\n",
        "\n",
        "import os\n",
        "from IPython.display import clear_output\n",
        "\n",
        "!apt -y update -qq\n",
        "!wget https://github.com/camenduru/gperftools/releases/download/v1.0/libtcmalloc_minimal.so.4 -O /content/libtcmalloc_minimal.so.4\n",
        "%env LD_PRELOAD=/content/libtcmalloc_minimal.so.4\n",
        "\n",
        "!apt -y install -qq aria2\n",
        "!pip install -q xformers==0.0.20 triton==2.0.0 -U\n",
        "!pip install -q mediapipe==0.9.1.0 addict yapf fvcore omegaconf\n",
        "!pip install pyrfc6266\n",
        "\n",
        "repo_dir = \"/content/ComfyUI\"\n",
        "\n",
        "!git clone https://github.com/comfyanonymous/ComfyUI.git\n",
        "%cd {repo_dir}\n",
        "!pip install -q -r requirements.txt\n",
        "\n",
        "%cd {repo_dir}/custom_nodes\n",
        "!git clone https://github.com/ltdrdata/ComfyUI-Manager.git\n",
        "!git clone https://github.com/WASasquatch/was-node-suite-comfyui.git\n",
        "!git clone https://github.com/Derfuu/Derfuu_ComfyUI_ModdedNodes.git\n",
        "!git clone https://github.com/EllangoK/ComfyUI-post-processing-nodes.git\n",
        "!git clone https://github.com/ssitu/ComfyUI_UltimateSDUpscale --recursive\n",
        "!git clone https://github.com/BlenderNeko/ComfyUI_TiledKSampler.git\n",
        "!git clone https://github.com/BlenderNeko/ComfyUI_ADV_CLIP_emb.git\n",
        "!git clone https://github.com/failfa-st/failfast-comfyui-extensions.git\n",
        "!git clone https://github.com/LucianoCirino/efficiency-nodes-comfyui.git\n",
        "!git clone https://github.com/RockOfFire/ComfyUI_Comfyroll_CustomNodes.git\n",
        "!git clone https://github.com/ltdrdata/ComfyUI-Impact-Pack.git\n",
        "!git clone https://github.com/SeargeDP/SeargeSDXL.git\n",
        "!git clone https://github.com/BlenderNeko/ComfyUI_Cutoff\n",
        "!git clone https://github.com/LucianoCirino/efficiency-nodes-comfyui\n",
        "!git clone https://github.com/Davemane42/ComfyUI_Dave_CustomNode\n",
        "!git clone https://github.com/pythongosssss/ComfyUI-WD14-Tagger.git\n",
        "!git clone https://github.com/ssitu/ComfyUI_restart_sampling\n",
        "!git clone https://github.com/pythongosssss/ComfyUI-Custom-Scripts\n",
        "!git clone https://github.com/Fannovel16/comfy_controlnet_preprocessors.git\n",
        "!git clone https://github.com/twri/sdxl_prompt_styler.git\n",
        "!git clone https://github.com/Ser-Hilary/SDXL_sizing.git\n",
        "!git clone https://github.com/laksjdjf/IPAdapter-ComfyUI.git\n",
        "!wget https://huggingface.co/faisalhr1997/comfyui/resolve/main/SDXLAspectRatio.py\n",
        "!wget https://huggingface.co/faisalhr1997/comfyui/resolve/main/ksampler_sdxl.py\n",
        "!git clone https://github.com/JPS-GER/ComfyUI_JPS-Nodes.git\n",
        "\n",
        "!python /content/ComfyUI/custom_nodes/comfy_controlnet_preprocessors/install.py\n",
        "!pip install -r {repo_dir}/custom_nodes/ComfyUI-WD14-Tagger/requirements.txt\n",
        "\n",
        "clear_output()\n",
        "print(\"\\033[34m>> Finished installing Dependencies\\033[0m\")"
      ]
    },
    {
      "cell_type": "code",
      "source": [
        "# @title 2. Download ```Models```\n",
        "\n",
        "!wget -c https://huggingface.co/stabilityai/stable-diffusion-xl-base-1.0/resolve/main/sd_xl_base_1.0.safetensors -P ./models/checkpoints/\n",
        "!wget -c https://huggingface.co/stabilityai/stable-diffusion-xl-refiner-1.0/resolve/main/sd_xl_refiner_1.0.safetensors -P ./models/checkpoints/\n",
        "!wget -c https://civitai.com/api/download/models/156005 -P ./models/checkpoints/\n",
        "!wget -c https://huggingface.co/madebyollin/sdxl-vae-fp16-fix/resolve/main/sdxl_vae.safetensors -P ./models/vae/\n",
        "!wget -c https://huggingface.co/stabilityai/stable-diffusion-xl-base-1.0/resolve/main/sd_xl_offset_example-lora_1.0.safetensors -P ./models/loras/ #SDXL offset noise lora\n",
        "!wget -c https://huggingface.co/diffusers/controlnet-canny-sdxl-1.0/resolve/main/diffusion_pytorch_model.fp16.safetensors -P ./models/controlnet/\n",
        "!wget -c https://huggingface.co/diffusers/controlnet-depth-sdxl-1.0/resolve/main/diffusion_pytorch_model.fp16.bin -P ./models/controlnet/\n",
        "!wget -c https://huggingface.co/h94/IP-Adapter/resolve/main/sdxl_models/ip-adapter_sdxl.bin -P ./models/\n",
        "!wget -c https://huggingface.co/h94/IP-Adapter/resolve/main/sdxl_models/image_encoder/pytorch_model.bin -P ./models/clip_vision/\n",
        "!wget -c https://github.com/xinntao/Real-ESRGAN/releases/download/v0.1.0/RealESRGAN_x4plus.pth -P ./models/upscale_models/\n",
        "!wget -c https://huggingface.co/sberbank-ai/Real-ESRGAN/resolve/main/RealESRGAN_x2.pth -P ./models/upscale_models/\n",
        "!wget -c https://huggingface.co/sberbank-ai/Real-ESRGAN/resolve/main/RealESRGAN_x4.pth -P ./models/upscale_models/\n"
      ],
      "metadata": {
        "id": "x5wSAVFzP2PU"
      },
      "execution_count": null,
      "outputs": []
    },
    {
      "cell_type": "code",
      "source": [
        "!npm install -g localtunnel\n",
        "\n",
        "import subprocess\n",
        "import threading\n",
        "import time\n",
        "import socket\n",
        "import urllib.request\n",
        "\n",
        "def iframe_thread(port):\n",
        "  while True:\n",
        "      time.sleep(0.5)\n",
        "      sock = socket.socket(socket.AF_INET, socket.SOCK_STREAM)\n",
        "      result = sock.connect_ex(('127.0.0.1', port))\n",
        "      if result == 0:\n",
        "        break\n",
        "      sock.close()\n",
        "  print(\"\\nComfyUI finished loading, trying to launch localtunnel (if it gets stuck here localtunnel is having issues)\\n\")\n",
        "\n",
        "  print(\"The password/enpoint ip for localtunnel is:\", urllib.request.urlopen('https://ipv4.icanhazip.com').read().decode('utf8').strip(\"\\n\"))\n",
        "  p = subprocess.Popen([\"lt\", \"--port\", \"{}\".format(port)], stdout=subprocess.PIPE)\n",
        "  for line in p.stdout:\n",
        "    print(line.decode(), end='')\n",
        "\n",
        "\n",
        "threading.Thread(target=iframe_thread, daemon=True, args=(8188,)).start()\n",
        "\n",
        "!python main.py --dont-print-server"
      ],
      "metadata": {
        "id": "HdWvgiQJQ0Ga"
      },
      "execution_count": null,
      "outputs": []
    },
    {
      "cell_type": "code",
      "source": [
        "# @title Show ```launch_arguments```\n",
        "\n",
        "%cd {repo_dir}\n",
        "\n",
        "!python main.py --help\n"
      ],
      "metadata": {
        "id": "HyxzbbAUcMPv"
      },
      "execution_count": null,
      "outputs": []
    }
  ],
  "metadata": {
    "accelerator": "GPU",
    "colab": {
      "private_outputs": true,
      "provenance": []
    },
    "gpuClass": "standard",
    "kernelspec": {
      "display_name": "Python 3",
      "language": "python",
      "name": "python3"
    },
    "language_info": {
      "name": "python",
      "version": "3.10.8"
    },
    "vscode": {
      "interpreter": {
        "hash": "e593ac106456af50ce7af38f9671c411b49d6cd90f9b885e167f0f594e09038c"
      }
    }
  },
  "nbformat": 4,
  "nbformat_minor": 0
}