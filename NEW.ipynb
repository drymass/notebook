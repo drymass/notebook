{
  "nbformat": 4,
  "nbformat_minor": 0,
  "metadata": {
    "colab": {
      "provenance": []
    },
    "kernelspec": {
      "name": "python3",
      "display_name": "Python 3"
    },
    "language_info": {
      "name": "python"
    }
  },
  "cells": [
    {
      "cell_type": "code",
      "execution_count": null,
      "metadata": {
        "id": "dFiijJTljATh"
      },
      "outputs": [],
      "source": [
        "#@title Environment Setup\n",
        "\n",
        "from pathlib import Path\n",
        "\n",
        "OPTIONS = {}\n",
        "\n",
        "USE_GOOGLE_DRIVE = False  #@param {type:\"boolean\"}\n",
        "UPDATE_COMFY_UI = True  #@param {type:\"boolean\"}\n",
        "WORKSPACE = 'ComfyUI'\n",
        "OPTIONS['USE_GOOGLE_DRIVE'] = USE_GOOGLE_DRIVE\n",
        "OPTIONS['UPDATE_COMFY_UI'] = UPDATE_COMFY_UI\n",
        "\n",
        "if OPTIONS['USE_GOOGLE_DRIVE']:\n",
        "    !echo \"Mounting Google Drive...\"\n",
        "    %cd /\n",
        "\n",
        "    from google.colab import drive\n",
        "    drive.mount('/content/drive')\n",
        "\n",
        "    WORKSPACE = \"/content/drive/MyDrive/ComfyUI\"\n",
        "    %cd /content/drive/MyDrive\n",
        "\n",
        "![ ! -d $WORKSPACE ] && echo -= Initial setup ComfyUI =- && git clone https://github.com/comfyanonymous/ComfyUI\n",
        "%cd $WORKSPACE\n",
        "\n",
        "if OPTIONS['UPDATE_COMFY_UI']:\n",
        "  !echo -= Updating ComfyUI =-\n",
        "  !git pull\n",
        "\n",
        "!echo -= Install dependencies =-\n",
        "!pip install xformers!=0.0.18 -r requirements.txt --extra-index-url https://download.pytorch.org/whl/cu118 --extra-index-url https://download.pytorch.org/whl/cu117"
      ]
    },
    {
      "cell_type": "code",
      "source": [
        "%cd {repo_dir}/custom_nodes\n",
        "!git clone https://github.com/ltdrdata/ComfyUI-Manager.git\n",
        "!git clone https://github.com/WASasquatch/was-node-suite-comfyui.git\n",
        "!git clone https://github.com/Derfuu/Derfuu_ComfyUI_ModdedNodes.git\n",
        "!git clone https://github.com/EllangoK/ComfyUI-post-processing-nodes.git\n",
        "!git clone https://github.com/ssitu/ComfyUI_UltimateSDUpscale --recursive\n",
        "!git clone https://github.com/BlenderNeko/ComfyUI_TiledKSampler.git\n",
        "!git clone https://github.com/BlenderNeko/ComfyUI_ADV_CLIP_emb.git\n",
        "!git clone https://github.com/failfa-st/failfast-comfyui-extensions.git\n",
        "!git clone https://github.com/LucianoCirino/efficiency-nodes-comfyui.git\n",
        "!git clone https://github.com/RockOfFire/ComfyUI_Comfyroll_CustomNodes.git\n",
        "!git clone https://github.com/ltdrdata/ComfyUI-Impact-Pack.git\n",
        "!git clone https://github.com/SeargeDP/SeargeSDXL.git\n",
        "!git clone https://github.com/BlenderNeko/ComfyUI_Cutoff\n",
        "!git clone https://github.com/LucianoCirino/efficiency-nodes-comfyui\n",
        "!git clone https://github.com/Davemane42/ComfyUI_Dave_CustomNode\n",
        "!git clone https://github.com/pythongosssss/ComfyUI-WD14-Tagger.git\n",
        "!git clone https://github.com/ssitu/ComfyUI_restart_sampling\n",
        "!git clone https://github.com/pythongosssss/ComfyUI-Custom-Scripts\n",
        "!git clone https://github.com/Fannovel16/comfy_controlnet_preprocessors.git\n",
        "!git clone https://github.com/twri/sdxl_prompt_styler.git\n",
        "!git clone https://github.com/Ser-Hilary/SDXL_sizing.git\n",
        "!git clone https://github.com/laksjdjf/IPAdapter-ComfyUI.git\n",
        "!wget https://huggingface.co/faisalhr1997/comfyui/resolve/main/SDXLAspectRatio.py\n",
        "!wget https://huggingface.co/faisalhr1997/comfyui/resolve/main/ksampler_sdxl.py\n",
        "!git clone https://github.com/JPS-GER/ComfyUI_JPS-Nodes.git\n",
        "\n",
        "!python /content/ComfyUI/custom_nodes/comfy_controlnet_preprocessors/install.py\n",
        "!pip install -r {repo_dir}/custom_nodes/ComfyUI-WD14-Tagger/requirements.txt"
      ],
      "metadata": {
        "id": "aHPsTucWjBsx"
      },
      "execution_count": null,
      "outputs": []
    },
    {
      "cell_type": "code",
      "source": [
        "!wget -c https://huggingface.co/stabilityai/stable-diffusion-xl-base-1.0/resolve/main/sd_xl_base_1.0.safetensors -P ./models/checkpoints/\n",
        "!wget -c https://huggingface.co/stabilityai/stable-diffusion-xl-refiner-1.0/resolve/main/sd_xl_refiner_1.0.safetensors -P ./models/checkpoints/\n",
        "!wget -c https://civitai.com/api/download/models/156005 -P ./models/checkpoints/\n",
        "!wget -c https://huggingface.co/madebyollin/sdxl-vae-fp16-fix/resolve/main/sdxl_vae.safetensors -P ./models/vae/\n",
        "!wget -c https://huggingface.co/stabilityai/stable-diffusion-xl-base-1.0/resolve/main/sd_xl_offset_example-lora_1.0.safetensors -P ./models/loras/ #SDXL offset noise lora\n",
        "!wget -c https://huggingface.co/diffusers/controlnet-canny-sdxl-1.0/resolve/main/diffusion_pytorch_model.fp16.safetensors -P ./models/controlnet/\n",
        "!wget -c https://huggingface.co/diffusers/controlnet-depth-sdxl-1.0/resolve/main/diffusion_pytorch_model.fp16.bin -P ./models/controlnet/\n",
        "!wget -c https://huggingface.co/h94/IP-Adapter/resolve/main/sdxl_models/ip-adapter_sdxl.bin -P ./models/\n",
        "!wget -c https://huggingface.co/h94/IP-Adapter/resolve/main/sdxl_models/image_encoder/pytorch_model.bin -P ./models/clip_vision/\n",
        "!wget -c https://github.com/xinntao/Real-ESRGAN/releases/download/v0.1.0/RealESRGAN_x4plus.pth -P ./models/upscale_models/\n",
        "!wget -c https://huggingface.co/sberbank-ai/Real-ESRGAN/resolve/main/RealESRGAN_x2.pth -P ./models/upscale_models/\n",
        "!wget -c https://huggingface.co/sberbank-ai/Real-ESRGAN/resolve/main/RealESRGAN_x4.pth -P ./models/upscale_models/"
      ],
      !npm install -g localtunnel

import subprocess
import threading
import time
import socket
import urllib.request

def iframe_thread(port):
  while True:
      time.sleep(0.5)
      sock = socket.socket(socket.AF_INET, socket.SOCK_STREAM)
      result = sock.connect_ex(('127.0.0.1', port))
      if result == 0:
        break
      sock.close()
  print("\nComfyUI finished loading, trying to launch localtunnel (if it gets stuck here localtunnel is having issues)\n")

  print("The password/enpoint ip for localtunnel is:", urllib.request.urlopen('https://ipv4.icanhazip.com').read().decode('utf8').strip("\n"))
  p = subprocess.Popen(["lt", "--port", "{}".format(port)], stdout=subprocess.PIPE)
  for line in p.stdout:
    print(line.decode(), end='')


threading.Thread(target=iframe_thread, daemon=True, args=(8188,)).start()

!python /content/ComfyUI/main.py --highvram --dont-print-server --use-pytorch-cross-attention --dont-upcast-attention --enable-cors-header
